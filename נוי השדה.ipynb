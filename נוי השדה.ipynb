{
 "cells": [
  {
   "cell_type": "markdown",
   "metadata": {},
   "source": [
    "Selenium web driver is availible [here](https://chromedriver.storage.googleapis.com/83.0.4103.39/chromedriver_mac64.zip)"
   ]
  },
  {
   "cell_type": "code",
   "execution_count": 13,
   "metadata": {},
   "outputs": [],
   "source": [
    "import csv\n",
    "import json\n",
    "import time\n",
    "\n",
    "from urllib.request import urlopen\n",
    "from bs4 import BeautifulSoup, element\n",
    "from bidi.algorithm import get_display\n",
    "from selenium import webdriver\n",
    "from selenium.webdriver.common.keys import Keys"
   ]
  },
  {
   "cell_type": "code",
   "execution_count": 14,
   "metadata": {},
   "outputs": [],
   "source": [
    "webdriver_path = r'/Users/evgenys/GIT/kfar_scrape/chromedriver'\n",
    "URL='https://noyhasade.co.il/product-category/%d7%a4%d7%99%d7%a8%d7%95%d7%aa/%d7%a4%d7%99%d7%a8%d7%95%d7%aa-%d7%98%d7%a8%d7%99%d7%99%d7%9d/'\n",
    "DATA_PATH = '/Users/esubotin/CODE/GIT/kfar_scrape/DATA'\n",
    "CSV_FIELD_NAMES = [\n",
    "    'Product_ID',\n",
    "    'Product_Name',\n",
    "    'Description',\n",
    "    'Sub_Category',\n",
    "    'Price',\n",
    "    'Old_Price',\n",
    "    'Unit_Type',\n",
    "    'isNew',\n",
    "    'isForSale',\n",
    "    'Image_URL']\n",
    "no_of_pagedowns = 50"
   ]
  },
  {
   "cell_type": "code",
   "execution_count": 15,
   "metadata": {},
   "outputs": [],
   "source": [
    "# Path to webdriver\n",
    "browser = webdriver.Chrome(webdriver_path)\n",
    "\n",
    "# URL to scrape\n",
    "browser.get(URL)\n",
    "time.sleep(1)\n",
    "\n",
    "elem = browser.find_element_by_tag_name(\"body\")"
   ]
  },
  {
   "cell_type": "markdown",
   "metadata": {},
   "source": [
    "### We need to press down key until we get all the JS defined products"
   ]
  },
  {
   "cell_type": "code",
   "execution_count": 16,
   "metadata": {},
   "outputs": [],
   "source": [
    "while no_of_pagedowns:\n",
    "    elem.send_keys(Keys.PAGE_DOWN)\n",
    "    time.sleep(1)\n",
    "    no_of_pagedowns-=1"
   ]
  },
  {
   "cell_type": "markdown",
   "metadata": {},
   "source": [
    "### Starting HTML analyzing"
   ]
  },
  {
   "cell_type": "code",
   "execution_count": 17,
   "metadata": {},
   "outputs": [],
   "source": [
    "soup = BeautifulSoup(browser.page_source,\"html.parser\")\n",
    "all_products = soup.find_all('div', {\"class\": 'product_item'})"
   ]
  },
  {
   "cell_type": "code",
   "execution_count": 18,
   "metadata": {},
   "outputs": [],
   "source": [
    "id = all_products[48]['data-product_id']"
   ]
  },
  {
   "cell_type": "code",
   "execution_count": 21,
   "metadata": {},
   "outputs": [
    {
     "data": {
      "text/plain": [
       "<div class=\"product product_item product_item_557 col-2\" data-is_half=\"\" data-is_slice=\"\" data-product_id=\"557\" data-product_price=\"13.8\" data-product_pricingtype=\"both\" data-product_unit=\"kg\" data-quantity=\"0\" data-sale=\"0\" data-sale-id=\"0\" data-sale_limit=\"0\" data-sale_price=\"0\" data-sale_products_buy=\"0\" data-selected_half=\"\" data-slice=\"\" data-weight=\"0.14\">\n",
       "<div class=\"product_in position-relative bg-white bg-shadow ease\">\n",
       "<div class=\"product-loader\" style=\"display: none;\">\n",
       "<div class=\"d-flex justify-content-center align-content-center w-100 h-100\">\n",
       "<img class=\"\" src=\"https://noyhasade.co.il/wp-content/themes/noyhasade/assets/images/checkout/loader.svg\"/>\n",
       "</div>\n",
       "</div>\n",
       "<a class=\"product_img_wrap no_mobile d-flex align-items-center justify-content-center\" href=\"javascript:void(0);\" onclick=\"openPopProduct(557);\">\n",
       "<img class=\"attachment-woocommerce_single size-woocommerce_single no_mobile\" src=\"https://d7v3g3v6.stackpathcdn.com/wp-content/uploads/2020/09/gala_apple-300x300.jpg\"/>\n",
       "</a>\n",
       "<div class=\"product_img_wrap mobile_only\">\n",
       "<img class=\"attachment-woocommerce_single size-woocommerce_single no_mobile\" src=\"https://d7v3g3v6.stackpathcdn.com/wp-content/uploads/2020/09/gala_apple-300x300.jpg\"/>\n",
       "</div>\n",
       "<div class=\"mobile_product ease mobile_only col-12\">\n",
       "<div class=\"row align-items-center\">\n",
       "<div class=\"col-auto\">\n",
       "<div class=\"mobile_product_img ease\">\n",
       "<img class=\"attachment-woocommerce_single size-woocommerce_single\" src=\"https://d7v3g3v6.stackpathcdn.com/wp-content/uploads/2020/09/gala_apple-300x300.jpg\"/>\n",
       "</div>\n",
       "</div>\n",
       "<div class=\"col pr-0\">\n",
       "<div class=\"mobile_product_content ease\">\n",
       "<h3 class=\"prod_title font-weight-bold ease\">תפוח עץ גאלה</h3>\n",
       "<div class=\"prod_price ease\">\n",
       "<span class=\"currency\">₪</span>13.8                                                        /\n",
       "                                                        <span class=\"prod_price_kilo\">ק״ג</span>\n",
       "</div>\n",
       "<div class=\"prod_desc ease font--14\"></div>\n",
       "</div>\n",
       "</div>\n",
       "</div>\n",
       "</div>\n",
       "<a class=\"bt_open_add ease\" href=\"javascript:void(0);\" onclick=\"showBtns(this);\">\n",
       "<span class=\"after_add after_add_quantity no_mobile\">0</span>\n",
       "<span class=\"tx--16 tx--grey selected_unit block after_add no_mobile\">\n",
       "                                      ק״ג                                 </span>\n",
       "</a>\n",
       "<div class=\"product_hover d-flex ease\">\n",
       "<div class=\"product_quantity hide-y\">\n",
       "<a class=\"btn-plus rounded-circle\" href=\"javascript:void(0);\" onclick=\"changeQuantity(this,'plus')\">\n",
       "<span class=\"sr-only\">הגדלת כמות</span>\n",
       "<img src=\"https://noyhasade.co.il/wp-content/themes/noyhasade/assets/images/product/plus.svg\"/>\n",
       "</a>\n",
       "<a class=\"btn-minus rounded-circle\" href=\"javascript:void(0);\" onclick=\"changeQuantity(this,'minus')\">\n",
       "<span class=\"sr-only\">הקטנת כמות</span>\n",
       "<img src=\"https://noyhasade.co.il/wp-content/themes/noyhasade/assets/images/product/minus.svg\"/>\n",
       "</a>\n",
       "<input name=\"quantity557\" pattern=\"\\d*\" step=\"0.5\" type=\"number\" value=\"0\"/>\n",
       "</div>\n",
       "<div class=\"product_kilo_wrap d-flex mr-auto\">\n",
       "<a class=\"kilo_ch block active\" data-unit=\"kg\" href=\"javascript:void(0);\">ק״ג</a>\n",
       "<a class=\"kilo_ch block\" data-unit=\"unit\" href=\"javascript:void(0);\">\n",
       "                                                            יח׳\n",
       "                                                    </a>\n",
       "<div class=\"active-line ease\"></div>\n",
       "</div>\n",
       "<a class=\"mobile_popup_opener mobile_only\" href=\"javascript:void(0);\" onclick=\"openPopProduct(557)\">\n",
       "<img src=\"https://noyhasade.co.il/wp-content/themes/noyhasade/assets/images/product/info.svg\"/>\n",
       "</a>\n",
       "</div>\n",
       "</div>\n",
       "<a class=\"product_bottom no_mobile\" href=\"javascript:void(0);\" onclick=\"openPopProduct(557)\">\n",
       "<h3 class=\"prod_title font-weight-bold\">תפוח עץ גאלה</h3>\n",
       "<div class=\"prod_price\">\n",
       "<span class=\"currency\">₪</span>13.8                        /\n",
       "                            <span class=\"prod_price_kilo\">ק״ג</span>\n",
       "</div>\n",
       "<div class=\"product-modal-price_desc\"></div>\n",
       "</a>\n",
       "<div class=\"m_product mobile_only d-none\">\n",
       "<div class=\"cart_row cart_row_550 flex relative\">\n",
       "<div class=\"cart_img\">\n",
       "<img alt=\"\" class=\"attachment-woocommerce_single size-woocommerce_single\" height=\"600\" src=\"https://d7v3g3v6.stackpathcdn.com/wp-content/uploads/2020/09/gala_apple-300x300.jpg\" width=\"600\"/>\n",
       "</div>\n",
       "<div class=\"cart_title tx--18 bold ease\">\n",
       "<div class=\"cart_title_height\">תפוח עץ גאלה</div>\n",
       "<div class=\"cart_price tx--18\">\n",
       "<div class=\"cart_price_reg\"><span class=\"currency\">₪</span>13.8                    </div>\n",
       "</div>\n",
       "<div class=\"note\">כ-140 גר׳</div>\n",
       "</div>\n",
       "<div class=\"mobile_only\">\n",
       "<div class=\"m_quantity tx--green bold ease\">\n",
       "<span class=\"quantity\"></span>\n",
       "<span class=\"selected_unit\">\n",
       "                                                      ק״ג                          \n",
       "                    </span>\n",
       "</div>\n",
       "</div>\n",
       "<div class=\"cart_count center\">\n",
       "<div class=\"before_count\" style=\"display:none;\">\n",
       "<div class=\"text\">2</div>\n",
       "<div class=\"tx--16 tx--grey\"></div>\n",
       "</div>\n",
       "<div class=\"after_count\">\n",
       "<div class=\"product_quantity\">\n",
       "<a class=\"btn-plus circ--sm radius--100 flex\" href=\"javascript:void(0);\" onclick=\"changeQuantity(this,'plus')\"><span class=\"ic-plus\"></span></a>\n",
       "<a class=\"btn-minus circ--sm radius--100 flex\" href=\"javascript:void(0);\" onclick=\"changeQuantity(this,'minus')\"><span class=\"ic-minus\"></span></a>\n",
       "<input name=\"quantity557&gt;\" pattern=\"\\d*\" step=\"0.5\" type=\"number\" value=\"0\"/>\n",
       "</div>\n",
       "<div class=\"mobile_only\">\n",
       "<hr/>\n",
       "<div class=\"m_amount\"><span class=\"label\">כמות: </span><span class=\"quantity\">0</span>\n",
       "</div>\n",
       "</div>\n",
       "<div class=\"product_kilo_wrap relative flex flex--start z--1\">\n",
       "<a class=\"kilo_ch block active\" data-unit=\"kg\" href=\"javascript:void(0);\">ק״ג</a>\n",
       "<a class=\"kilo_ch block\" data-unit=\"unit\" href=\"javascript:void(0);\">יח׳</a>\n",
       "<div class=\"active-line ease\"></div>\n",
       "</div>\n",
       "</div>\n",
       "</div>\n",
       "<div class=\"mobile_only m_cart_toggle\">\n",
       "<span class=\"ic-plus\"></span>\n",
       "<div class=\"cart_toggle_close\">\n",
       "<svg enable-background=\"new 0 0 13 8\" height=\"8px\" id=\"Layer_1\" viewbox=\"0 0 13 8\" width=\"13px\" x=\"0px\" xml:space=\"preserve\" xmlns=\"http://www.w3.org/2000/svg\" xmlns:xlink=\"http://www.w3.org/1999/xlink\" y=\"0px\">\n",
       "<g>\n",
       "<polygon fill=\"#FFFFFF\" id=\"arrow-down-a\" points=\"11.3,0.3 6.5,4.9 1.7,0.3 0.2,1.7 6.5,7.7 12.8,1.7 \t\"></polygon>\n",
       "</g>\n",
       "</svg>\n",
       "</div>\n",
       "</div>\n",
       "<div class=\"mobile_only m_pp_open\">\n",
       "<div class=\"m_pp_open_ic border--100 bold ease\" onclick=\"openPopProduct(557)\">i\n",
       "                </div>\n",
       "</div>\n",
       "</div>\n",
       "</div>\n",
       "</div>"
      ]
     },
     "execution_count": 21,
     "metadata": {},
     "output_type": "execute_result"
    }
   ],
   "source": [
    "item = all_products[48]\n",
    "item"
   ]
  },
  {
   "cell_type": "code",
   "execution_count": 33,
   "metadata": {},
   "outputs": [],
   "source": [
    "item.find_all('div', {\"class\": 'prod_title'})\n",
    "if len(item.find_all('div', {\"class\": 'prod_title'})) != 0:\n",
    "    product.name = item.find_all('div', {\"class\": 'prod_title'})[0].contents[0].strip()"
   ]
  },
  {
   "cell_type": "raw",
   "metadata": {},
   "source": [
    "len(item.find_all('span', {\"class\": 'tag'}))"
   ]
  },
  {
   "cell_type": "code",
   "execution_count": 149,
   "metadata": {},
   "outputs": [
    {
     "data": {
      "text/plain": [
       "<div class=\"product product_item product_item_4432 col-2\" data-is_half=\"\" data-is_slice=\"\" data-product_id=\"4432\" data-product_price=\"16.8\" data-product_pricingtype=\"both\" data-product_unit=\"kg\" data-quantity=\"0\" data-sale=\"0\" data-sale-id=\"0\" data-sale_limit=\"0\" data-sale_price=\"0\" data-sale_products_buy=\"0\" data-selected_half=\"\" data-slice=\"\" data-weight=\"0.151\">\n",
       "<div class=\"product_in position-relative bg-white bg-shadow ease\">\n",
       "<div class=\"product-loader\" style=\"display: none;\">\n",
       "<div class=\"d-flex justify-content-center align-content-center w-100 h-100\">\n",
       "<img class=\"\" src=\"https://noyhasade.co.il/wp-content/themes/noyhasade/assets/images/checkout/loader.svg\"/>\n",
       "</div>\n",
       "</div>\n",
       "<a class=\"product_img_wrap no_mobile d-flex align-items-center justify-content-center\" href=\"javascript:void(0);\" onclick=\"openPopProduct(4432);\">\n",
       "<img class=\"attachment-woocommerce_single size-woocommerce_single no_mobile\" src=\"https://noyhasade.co.il/wp-content/uploads/2020/11/lolipop-300x300.jpg\"/>\n",
       "<span class=\"tag new\">חדש</span>\n",
       "</a>\n",
       "<div class=\"product_img_wrap mobile_only\">\n",
       "<img class=\"attachment-woocommerce_single size-woocommerce_single no_mobile\" src=\"https://noyhasade.co.il/wp-content/uploads/2020/11/lolipop-300x300.jpg\"/>\n",
       "</div>\n",
       "<div class=\"mobile_product ease mobile_only col-12\">\n",
       "<div class=\"row align-items-center\">\n",
       "<div class=\"col-auto\">\n",
       "<div class=\"mobile_product_img ease\">\n",
       "<img class=\"attachment-woocommerce_single size-woocommerce_single\" src=\"https://noyhasade.co.il/wp-content/uploads/2020/11/lolipop-300x300.jpg\"/>\n",
       "</div>\n",
       "</div>\n",
       "<div class=\"col pr-0\">\n",
       "<div class=\"mobile_product_content ease\">\n",
       "<div class=\"prod_title font-weight-bold ease\">תפוח עץ \"לוליפופ\"</div>\n",
       "<div class=\"prod_price ease\">\n",
       "<span class=\"currency\">₪</span>16.8                                                        /\n",
       "                                                        <span class=\"prod_price_kilo\">ק״ג</span>\n",
       "</div>\n",
       "<div class=\"prod_desc ease font--14\"></div>\n",
       "</div>\n",
       "</div>\n",
       "</div>\n",
       "</div>\n",
       "<a class=\"bt_open_add ease\" href=\"javascript:void(0);\" onclick=\"showBtns(this);\">\n",
       "<span class=\"after_add after_add_quantity no_mobile\">0</span>\n",
       "<span class=\"tx--16 tx--grey selected_unit block after_add no_mobile\">\n",
       "                                      ק״ג                                 </span>\n",
       "</a>\n",
       "<div class=\"product_hover d-flex ease\">\n",
       "<div class=\"product_quantity hide-y\">\n",
       "<a class=\"btn-plus rounded-circle\" href=\"javascript:void(0);\" onclick=\"changeQuantity(this,'plus')\">\n",
       "<span class=\"sr-only\">הגדלת כמות</span>\n",
       "<img src=\"https://noyhasade.co.il/wp-content/themes/noyhasade/assets/images/product/plus.svg\"/>\n",
       "</a>\n",
       "<a class=\"btn-minus rounded-circle\" href=\"javascript:void(0);\" onclick=\"changeQuantity(this,'minus')\">\n",
       "<span class=\"sr-only\">הקטנת כמות</span>\n",
       "<img src=\"https://noyhasade.co.il/wp-content/themes/noyhasade/assets/images/product/minus.svg\"/>\n",
       "</a>\n",
       "<input name=\"quantity4432\" pattern=\"\\d*\" step=\"0.5\" type=\"number\" value=\"0\"/>\n",
       "</div>\n",
       "<div class=\"product_kilo_wrap d-flex mr-auto\">\n",
       "<a class=\"kilo_ch block active\" data-unit=\"kg\" href=\"javascript:void(0);\">ק״ג</a>\n",
       "<a class=\"kilo_ch block\" data-unit=\"unit\" href=\"javascript:void(0);\">\n",
       "                                                            יח׳\n",
       "                                                    </a>\n",
       "<div class=\"active-line ease\"></div>\n",
       "</div>\n",
       "<a class=\"mobile_popup_opener mobile_only\" href=\"javascript:void(0);\" onclick=\"openPopProduct(4432)\">\n",
       "<img src=\"https://noyhasade.co.il/wp-content/themes/noyhasade/assets/images/product/info.svg\"/>\n",
       "</a>\n",
       "</div>\n",
       "</div>\n",
       "<a class=\"product_bottom no_mobile\" href=\"javascript:void(0);\" onclick=\"openPopProduct(4432)\">\n",
       "<div class=\"prod_title font-weight-bold\">תפוח עץ \"לוליפופ\"</div>\n",
       "<div class=\"prod_price\">\n",
       "<span class=\"currency\">₪</span>16.8                        /\n",
       "                            <span class=\"prod_price_kilo\">ק״ג</span>\n",
       "</div>\n",
       "<div class=\"product-modal-price_desc\"></div>\n",
       "</a>\n",
       "<div class=\"m_product mobile_only d-none\">\n",
       "<div class=\"cart_row cart_row_550 flex relative\">\n",
       "<div class=\"cart_img\">\n",
       "<img alt=\"\" class=\"attachment-woocommerce_single size-woocommerce_single\" height=\"600\" src=\"https://noyhasade.co.il/wp-content/uploads/2020/11/lolipop-300x300.jpg\" width=\"600\"/>\n",
       "</div>\n",
       "<div class=\"cart_title tx--18 bold ease\">\n",
       "<div class=\"cart_title_height\">תפוח עץ \"לוליפופ\"</div>\n",
       "<div class=\"cart_price tx--18\">\n",
       "<div class=\"cart_price_reg\"><span class=\"currency\">₪</span>16.8                    </div>\n",
       "</div>\n",
       "<div class=\"note\">כ-151 גר׳</div>\n",
       "</div>\n",
       "<div class=\"mobile_only\">\n",
       "<div class=\"m_quantity tx--green bold ease\">\n",
       "<span class=\"quantity\"></span>\n",
       "<span class=\"selected_unit\">\n",
       "                                                      ק״ג                          \n",
       "                    </span>\n",
       "</div>\n",
       "</div>\n",
       "<div class=\"cart_count center\">\n",
       "<div class=\"before_count\" style=\"display:none;\">\n",
       "<div class=\"text\">2</div>\n",
       "<div class=\"tx--16 tx--grey\"></div>\n",
       "</div>\n",
       "<div class=\"after_count\">\n",
       "<div class=\"product_quantity\">\n",
       "<a class=\"btn-plus circ--sm radius--100 flex\" href=\"javascript:void(0);\" onclick=\"changeQuantity(this,'plus')\"><span class=\"ic-plus\"></span></a>\n",
       "<a class=\"btn-minus circ--sm radius--100 flex\" href=\"javascript:void(0);\" onclick=\"changeQuantity(this,'minus')\"><span class=\"ic-minus\"></span></a>\n",
       "<input name=\"quantity4432&gt;\" pattern=\"\\d*\" step=\"0.5\" type=\"number\" value=\"0\"/>\n",
       "</div>\n",
       "<div class=\"mobile_only\">\n",
       "<hr/>\n",
       "<div class=\"m_amount\"><span class=\"label\">כמות: </span><span class=\"quantity\">0</span>\n",
       "</div>\n",
       "</div>\n",
       "<div class=\"product_kilo_wrap relative flex flex--start z--1\">\n",
       "<a class=\"kilo_ch block active\" data-unit=\"kg\" href=\"javascript:void(0);\">ק״ג</a>\n",
       "<a class=\"kilo_ch block\" data-unit=\"unit\" href=\"javascript:void(0);\">יח׳</a>\n",
       "<div class=\"active-line ease\"></div>\n",
       "</div>\n",
       "</div>\n",
       "</div>\n",
       "<div class=\"mobile_only m_cart_toggle\">\n",
       "<span class=\"ic-plus\"></span>\n",
       "<div class=\"cart_toggle_close\">\n",
       "<svg enable-background=\"new 0 0 13 8\" height=\"8px\" id=\"Layer_1\" viewbox=\"0 0 13 8\" width=\"13px\" x=\"0px\" xml:space=\"preserve\" xmlns=\"http://www.w3.org/2000/svg\" xmlns:xlink=\"http://www.w3.org/1999/xlink\" y=\"0px\">\n",
       "<g>\n",
       "<polygon fill=\"#FFFFFF\" id=\"arrow-down-a\" points=\"11.3,0.3 6.5,4.9 1.7,0.3 0.2,1.7 6.5,7.7 12.8,1.7 \t\"></polygon>\n",
       "</g>\n",
       "</svg>\n",
       "</div>\n",
       "</div>\n",
       "<div class=\"mobile_only m_pp_open\">\n",
       "<div class=\"m_pp_open_ic border--100 bold ease\" onclick=\"openPopProduct(4432)\">i\n",
       "                </div>\n",
       "</div>\n",
       "</div>\n",
       "</div>\n",
       "</div>"
      ]
     },
     "execution_count": 149,
     "metadata": {},
     "output_type": "execute_result"
    }
   ],
   "source": [
    "item"
   ]
  },
  {
   "cell_type": "code",
   "execution_count": 143,
   "metadata": {},
   "outputs": [],
   "source": [
    "price = item['data-product_price'].strip()"
   ]
  },
  {
   "cell_type": "code",
   "execution_count": 144,
   "metadata": {},
   "outputs": [
    {
     "data": {
      "text/plain": [
       "'0'"
      ]
     },
     "execution_count": 144,
     "metadata": {},
     "output_type": "execute_result"
    }
   ],
   "source": [
    "item['data-sale_price']"
   ]
  },
  {
   "cell_type": "code",
   "execution_count": 145,
   "metadata": {},
   "outputs": [
    {
     "data": {
      "text/plain": [
       "'12.8'"
      ]
     },
     "execution_count": 145,
     "metadata": {},
     "output_type": "execute_result"
    }
   ],
   "source": [
    "price"
   ]
  },
  {
   "cell_type": "code",
   "execution_count": 130,
   "metadata": {},
   "outputs": [
    {
     "data": {
      "text/plain": [
       "'https://noyhasade.co.il/wp-content/uploads/2020/09/blueberries_noy-300x300.jpg'"
      ]
     },
     "execution_count": 130,
     "metadata": {},
     "output_type": "execute_result"
    }
   ],
   "source": [
    "item.find_all('img', {\"class\": 'attachment-woocommerce_single'})[0]['src']"
   ]
  },
  {
   "cell_type": "code",
   "execution_count": 131,
   "metadata": {},
   "outputs": [
    {
     "data": {
      "text/plain": [
       "1"
      ]
     },
     "execution_count": 131,
     "metadata": {},
     "output_type": "execute_result"
    }
   ],
   "source": [
    "len(item.find_all('div', {\"class\": 'prod_desc'}))"
   ]
  },
  {
   "cell_type": "code",
   "execution_count": 132,
   "metadata": {},
   "outputs": [
    {
     "data": {
      "text/plain": [
       "'כ-150 גרם'"
      ]
     },
     "execution_count": 132,
     "metadata": {},
     "output_type": "execute_result"
    }
   ],
   "source": [
    "item.find_all('div', {\"class\": 'prod_desc'})[0].text"
   ]
  },
  {
   "cell_type": "code",
   "execution_count": 69,
   "metadata": {},
   "outputs": [
    {
     "data": {
      "text/plain": [
       "'ק״ג'"
      ]
     },
     "execution_count": 69,
     "metadata": {},
     "output_type": "execute_result"
    }
   ],
   "source": [
    "item.find_all('span', {\"class\": 'prod_price_kilo'})[0].contents[0].strip()"
   ]
  },
  {
   "cell_type": "code",
   "execution_count": 89,
   "metadata": {},
   "outputs": [
    {
     "data": {
      "text/plain": [
       "<div class=\"prod_price ease\">\n",
       "<span class=\"currency\">₪</span>34.8                                                        /\n",
       "                                                        <span class=\"prod_price_kilo\">ק״ג</span>\n",
       "</div>"
      ]
     },
     "execution_count": 89,
     "metadata": {},
     "output_type": "execute_result"
    }
   ],
   "source": [
    "item.find_all('div', {\"class\": 'prod_price'})[0]"
   ]
  },
  {
   "cell_type": "code",
   "execution_count": null,
   "metadata": {},
   "outputs": [],
   "source": []
  }
 ],
 "metadata": {
  "kernelspec": {
   "display_name": "Python 3",
   "language": "python",
   "name": "python3"
  },
  "language_info": {
   "codemirror_mode": {
    "name": "ipython",
    "version": 3
   },
   "file_extension": ".py",
   "mimetype": "text/x-python",
   "name": "python",
   "nbconvert_exporter": "python",
   "pygments_lexer": "ipython3",
   "version": "3.8.6"
  }
 },
 "nbformat": 4,
 "nbformat_minor": 4
}
