{
 "cells": [
  {
   "cell_type": "markdown",
   "metadata": {},
   "source": [
    "Selenium web driver is availible [here](https://chromedriver.storage.googleapis.com/83.0.4103.39/chromedriver_mac64.zip)"
   ]
  },
  {
   "cell_type": "code",
   "execution_count": 14,
   "metadata": {},
   "outputs": [],
   "source": [
    "import re\n",
    "import json\n",
    "import atexit\n",
    "from urllib.request import urlopen\n",
    "from bs4 import BeautifulSoup, element\n",
    "from bekfar.products import Product as prod\n",
    "from bekfar import utils\n",
    "from selenium import webdriver\n",
    "from difflib import SequenceMatcher\n",
    "from bidi.algorithm import get_display\n",
    "import sys"
   ]
  },
  {
   "cell_type": "code",
   "execution_count": 15,
   "metadata": {},
   "outputs": [],
   "source": [
    "webdriver_path = r'/Users/evgenys/GIT/kfar_scrape/chromedriver'\n",
    "URL='https://tari-tari.co.il/product-category/vegetables/'\n",
    "DATA_PATH = '/Users/evgenys/GIT/kfar_scrape/DATA'\n",
    "CSV_FIELD_NAMES = [\n",
    "    'Product_ID',\n",
    "    'Product_Name',\n",
    "    'Description',\n",
    "    'Price',\n",
    "    'Price_Type',\n",
    "    'New_Product',\n",
    "    'Sale',\n",
    "    'Image_URL']\n",
    "no_of_pagedowns = 50"
   ]
  },
  {
   "cell_type": "markdown",
   "metadata": {},
   "source": [
    "### Starting HTML analyzing"
   ]
  },
  {
   "cell_type": "code",
   "execution_count": 54,
   "metadata": {},
   "outputs": [],
   "source": [
    "soup = BeautifulSoup(urlopen(URL), 'lxml')\n",
    "all_products = soup.find_all('li', {\"class\": 'product'})\n",
    "item=all_products[1]"
   ]
  },
  {
   "cell_type": "code",
   "execution_count": 55,
   "metadata": {},
   "outputs": [],
   "source": [
    "product = prod(item.findAll('li', {\"class\": \"btn-wrap clr\"})[0].contents[0][\"data-product_id\"])"
   ]
  },
  {
   "cell_type": "code",
   "execution_count": 56,
   "metadata": {},
   "outputs": [
    {
     "data": {
      "text/plain": [
       "'7346'"
      ]
     },
     "execution_count": 56,
     "metadata": {},
     "output_type": "execute_result"
    }
   ],
   "source": [
    "product.id"
   ]
  },
  {
   "cell_type": "code",
   "execution_count": 57,
   "metadata": {},
   "outputs": [
    {
     "data": {
      "text/plain": [
       "<div class=\"product-inner clr\">\n",
       "<div class=\"woo-entry-image clr\">\n",
       "<a class=\"woocommerce-LoopProduct-link\" href=\"https://tari-tari.co.il/product/%d7%9e%d7%90%d7%a8%d7%96-%d7%91%d7%99%d7%aa-%d7%94%d7%a1%d7%a4%d7%a8/\">\n",
       "<img alt=\"מארז ארוחת עשר – מיני פלפל, מיני מלפפון ושרי מיקס\" class=\"woo-entry-image-main\" height=\"300\" itemprop=\"image\" sizes=\"(max-width: 300px) 100vw, 300px\" src=\"https://tari-tari.co.il/wp-content/uploads/2019/08/מארז-חזרה-ביס.png\" srcset=\"https://tari-tari.co.il/wp-content/uploads/2019/08/מארז-חזרה-ביס.png 300w, https://tari-tari.co.il/wp-content/uploads/2019/08/מארז-חזרה-ביס-150x150.png 150w, https://tari-tari.co.il/wp-content/uploads/2019/08/מארז-חזרה-ביס-100x100.png 100w, https://tari-tari.co.il/wp-content/uploads/2019/08/מארז-חזרה-ביס-60x60.png 60w, https://tari-tari.co.il/wp-content/uploads/2019/08/מארז-חזרה-ביס-177x177.png 177w\" width=\"300\"/> </a>\n",
       "</div><!-- .woo-entry-image -->\n",
       "<ul class=\"woo-entry-inner clr\"><li class=\"image-wrap\">\n",
       "<div class=\"woo-entry-image clr\">\n",
       "<a class=\"woocommerce-LoopProduct-link\" href=\"https://tari-tari.co.il/product/%d7%9e%d7%90%d7%a8%d7%96-%d7%91%d7%99%d7%aa-%d7%94%d7%a1%d7%a4%d7%a8/\">\n",
       "<img alt=\"מארז ארוחת עשר – מיני פלפל, מיני מלפפון ושרי מיקס\" class=\"woo-entry-image-main\" height=\"300\" itemprop=\"image\" sizes=\"(max-width: 300px) 100vw, 300px\" src=\"https://tari-tari.co.il/wp-content/uploads/2019/08/מארז-חזרה-ביס.png\" srcset=\"https://tari-tari.co.il/wp-content/uploads/2019/08/מארז-חזרה-ביס.png 300w, https://tari-tari.co.il/wp-content/uploads/2019/08/מארז-חזרה-ביס-150x150.png 150w, https://tari-tari.co.il/wp-content/uploads/2019/08/מארז-חזרה-ביס-100x100.png 100w, https://tari-tari.co.il/wp-content/uploads/2019/08/מארז-חזרה-ביס-60x60.png 60w, https://tari-tari.co.il/wp-content/uploads/2019/08/מארז-חזרה-ביס-177x177.png 177w\" width=\"300\"/> </a>\n",
       "</div><!-- .woo-entry-image -->\n",
       "</li><li class=\"title\"><a href=\"https://tari-tari.co.il/product/%d7%9e%d7%90%d7%a8%d7%96-%d7%91%d7%99%d7%aa-%d7%94%d7%a1%d7%a4%d7%a8/\">מארז ארוחת עשר – מיני פלפל, מיני מלפפון ושרי מיקס</a></li><li class=\"inner\">\n",
       "<span class=\"price\"><span class=\"woocommerce-Price-amount amount\"><span class=\"woocommerce-Price-currencySymbol\">₪</span>32.90</span></span>\n",
       "</li><li class=\"btn-wrap clr\"><a aria-label='הצגת אפשרויות עבור \"מארז ארוחת עשר - מיני פלפל, מיני מלפפון ושרי מיקס\"' class=\"button product_type_variable add_to_cart_button\" data-product_id=\"7346\" data-product_sku=\"\" data-quantity=\"0.5\" href=\"https://tari-tari.co.il/product/%d7%9e%d7%90%d7%a8%d7%96-%d7%91%d7%99%d7%aa-%d7%94%d7%a1%d7%a4%d7%a8/\" rel=\"nofollow\">בחר אפשרויות</a></li></ul></div>"
      ]
     },
     "execution_count": 57,
     "metadata": {},
     "output_type": "execute_result"
    }
   ],
   "source": [
    "product_block = item.findAll('div', {\"class\": \"product-inner clr\"})[0]\n",
    "product_block"
   ]
  },
  {
   "cell_type": "code",
   "execution_count": 58,
   "metadata": {},
   "outputs": [],
   "source": [
    "product.name = str(product_block.findAll('li', {\"class\": \"title\"})[0].contents[0].contents[0]).strip()\n",
    "product.name\n",
    "product.category = 'ירקות'"
   ]
  },
  {
   "cell_type": "code",
   "execution_count": 59,
   "metadata": {},
   "outputs": [
    {
     "ename": "IndexError",
     "evalue": "list index out of range",
     "output_type": "error",
     "traceback": [
      "\u001b[0;31m---------------------------------------------------------------------------\u001b[0m",
      "\u001b[0;31mIndexError\u001b[0m                                Traceback (most recent call last)",
      "\u001b[0;32m<ipython-input-59-0cb9da4a59ed>\u001b[0m in \u001b[0;36m<module>\u001b[0;34m\u001b[0m\n\u001b[0;32m----> 1\u001b[0;31m \u001b[0mproduct\u001b[0m\u001b[0;34m.\u001b[0m\u001b[0mdescription\u001b[0m \u001b[0;34m=\u001b[0m \u001b[0mproduct_block\u001b[0m\u001b[0;34m.\u001b[0m\u001b[0mfindAll\u001b[0m\u001b[0;34m(\u001b[0m\u001b[0;34m'div'\u001b[0m\u001b[0;34m,\u001b[0m \u001b[0;34m{\u001b[0m\u001b[0;34m\"class\"\u001b[0m\u001b[0;34m:\u001b[0m \u001b[0;34m\"yith-wcbm-badge-text\"\u001b[0m\u001b[0;34m}\u001b[0m\u001b[0;34m)\u001b[0m\u001b[0;34m[\u001b[0m\u001b[0;36m0\u001b[0m\u001b[0;34m]\u001b[0m\u001b[0;34m.\u001b[0m\u001b[0mcontents\u001b[0m\u001b[0;34m[\u001b[0m\u001b[0;36m0\u001b[0m\u001b[0;34m]\u001b[0m\u001b[0;34m.\u001b[0m\u001b[0mstrip\u001b[0m\u001b[0;34m(\u001b[0m\u001b[0;34m)\u001b[0m\u001b[0;34m\u001b[0m\u001b[0;34m\u001b[0m\u001b[0m\n\u001b[0m\u001b[1;32m      2\u001b[0m \u001b[0mproduct\u001b[0m\u001b[0;34m.\u001b[0m\u001b[0mdescription\u001b[0m\u001b[0;34m\u001b[0m\u001b[0;34m\u001b[0m\u001b[0m\n",
      "\u001b[0;31mIndexError\u001b[0m: list index out of range"
     ]
    }
   ],
   "source": [
    "product.description = product_block.findAll('div', {\"class\": \"yith-wcbm-badge-text\"})[0].contents[0].strip()\n",
    "product.description"
   ]
  },
  {
   "cell_type": "code",
   "execution_count": 60,
   "metadata": {},
   "outputs": [
    {
     "data": {
      "text/plain": [
       "'32.90'"
      ]
     },
     "execution_count": 60,
     "metadata": {},
     "output_type": "execute_result"
    }
   ],
   "source": [
    "product.price = product_block.findAll('span', {\"class\": \"woocommerce-Price-amount\"})[0].contents[1].strip()\n",
    "product.price"
   ]
  },
  {
   "cell_type": "code",
   "execution_count": 61,
   "metadata": {},
   "outputs": [
    {
     "data": {
      "text/plain": [
       "'מארז'"
      ]
     },
     "execution_count": 61,
     "metadata": {},
     "output_type": "execute_result"
    }
   ],
   "source": [
    "product.unit_type = item.findAll('span', {\"class\": \"ivpa_text\"})[0].contents[0].strip()\n",
    "product.unit_type"
   ]
  },
  {
   "cell_type": "code",
   "execution_count": 62,
   "metadata": {},
   "outputs": [
    {
     "data": {
      "text/plain": [
       "'https://tari-tari.co.il/wp-content/uploads/2019/08/מארז-חזרה-ביס.png'"
      ]
     },
     "execution_count": 62,
     "metadata": {},
     "output_type": "execute_result"
    }
   ],
   "source": [
    "product.image = product_block.findAll('img')[0]['src']\n",
    "product.image"
   ]
  },
  {
   "cell_type": "code",
   "execution_count": 63,
   "metadata": {},
   "outputs": [],
   "source": [
    "row = {\n",
    "    'Product_ID': product.id,\n",
    "    'Product_Name': product.name,\n",
    "    'Description': product.description,\n",
    "    'Category': product.category,\n",
    "    'Price': product.price,\n",
    "    'Old_Price': product.old_price,\n",
    "    'Unit_Type': product.unit_type,\n",
    "    'isNew': product.isNew,\n",
    "    'isForSale': product.isForSale,\n",
    "    'image URL': product.image}"
   ]
  },
  {
   "cell_type": "code",
   "execution_count": 43,
   "metadata": {},
   "outputs": [
    {
     "data": {
      "text/plain": [
       "{'Product_ID': '7346',\n",
       " 'Product_Name': 'מארז ארוחת עשר – מיני פלפל, מיני מלפפון ושרי מיקס',\n",
       " 'Description': '',\n",
       " 'Category': 'ירקות',\n",
       " 'Price': '32.90',\n",
       " 'Old_Price': 0,\n",
       " 'Unit_Type': 'מארז',\n",
       " 'isNew': False,\n",
       " 'isForSale': False,\n",
       " 'image URL': 'https://tari-tari.co.il/wp-content/uploads/2019/08/מארז-חזרה-ביס.png'}"
      ]
     },
     "execution_count": 43,
     "metadata": {},
     "output_type": "execute_result"
    }
   ],
   "source": [
    "row"
   ]
  }
 ],
 "metadata": {
  "kernelspec": {
   "display_name": "Python 3",
   "language": "python",
   "name": "python3"
  },
  "language_info": {
   "codemirror_mode": {
    "name": "ipython",
    "version": 3
   },
   "file_extension": ".py",
   "mimetype": "text/x-python",
   "name": "python",
   "nbconvert_exporter": "python",
   "pygments_lexer": "ipython3",
   "version": "3.8.6"
  }
 },
 "nbformat": 4,
 "nbformat_minor": 4
}
